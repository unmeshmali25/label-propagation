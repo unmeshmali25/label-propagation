{
 "cells": [
  {
   "cell_type": "markdown",
   "metadata": {
    "id": "ieUiNqS3KCZw"
   },
   "source": [
    "# Label Propagation\n",
    "\n",
    "## Label propagation is similar to training a classification model and then using that model to make predictions on test data. The key difference is that in general, our analogue to the test data has no labels against which to evaluate our model. In this exercise, we keep the entire set of true labels for illustrative purposes, but the vast marjority of them play no role in training the model. \n",
    "\n",
    "## This exercise is adapted from scikit-learn's [tutorial](https://scikit-learn.org/stable/auto_examples/semi_supervised/plot_label_propagation_digits.html) on zero shot learning ."
   ]
  },
  {
   "cell_type": "markdown",
   "metadata": {
    "id": "IESgGiUAlfZn"
   },
   "source": [
    "### Load the necessary modules and functions"
   ]
  },
  {
   "cell_type": "code",
   "execution_count": 74,
   "metadata": {
    "id": "hOVZd8fjgJyK"
   },
   "outputs": [],
   "source": [
    "import numpy as np\n",
    "import matplotlib.pyplot as plt\n",
    "\n",
    "from scipy import stats\n",
    "\n",
    "from sklearn import datasets\n",
    "from sklearn.semi_supervised import LabelSpreading\n",
    "\n",
    "from sklearn.metrics import confusion_matrix, classification_report"
   ]
  },
  {
   "cell_type": "markdown",
   "metadata": {
    "id": "0An6u8e9loVQ"
   },
   "source": [
    "### Exercise: Load and preprocess the data. \n",
    "1. Shuffle the indices\n",
    "2. Use the shuffled indices to extract 1000 random samples from the features data\n",
    "3. Extract the corresponding 1000 labels and images\n",
    "4. Copy the labels. Treat the first 50 shuffled samples as labeled data and the rest as unlabeled data. Replace the labels after the first 50 with -1.\n",
    "\n",
    "We'll use this copy of our labels (with 50 labels known and the other 950 hidden) to train our model, and use the original copy (with all 1000 labels known) to evaluate the model."
   ]
  },
  {
   "cell_type": "code",
   "execution_count": 75,
   "metadata": {},
   "outputs": [
    {
     "name": "stdout",
     "output_type": "stream",
     "text": [
      "(1797, 64)\n",
      "1797\n",
      "['pixel_0_0', 'pixel_0_1', 'pixel_0_2', 'pixel_0_3', 'pixel_0_4', 'pixel_0_5', 'pixel_0_6', 'pixel_0_7', 'pixel_1_0', 'pixel_1_1', 'pixel_1_2', 'pixel_1_3', 'pixel_1_4', 'pixel_1_5', 'pixel_1_6', 'pixel_1_7', 'pixel_2_0', 'pixel_2_1', 'pixel_2_2', 'pixel_2_3', 'pixel_2_4', 'pixel_2_5', 'pixel_2_6', 'pixel_2_7', 'pixel_3_0', 'pixel_3_1', 'pixel_3_2', 'pixel_3_3', 'pixel_3_4', 'pixel_3_5', 'pixel_3_6', 'pixel_3_7', 'pixel_4_0', 'pixel_4_1', 'pixel_4_2', 'pixel_4_3', 'pixel_4_4', 'pixel_4_5', 'pixel_4_6', 'pixel_4_7', 'pixel_5_0', 'pixel_5_1', 'pixel_5_2', 'pixel_5_3', 'pixel_5_4', 'pixel_5_5', 'pixel_5_6', 'pixel_5_7', 'pixel_6_0', 'pixel_6_1', 'pixel_6_2', 'pixel_6_3', 'pixel_6_4', 'pixel_6_5', 'pixel_6_6', 'pixel_6_7', 'pixel_7_0', 'pixel_7_1', 'pixel_7_2', 'pixel_7_3', 'pixel_7_4', 'pixel_7_5', 'pixel_7_6', 'pixel_7_7']\n",
      "(1797, 8, 8)\n",
      "[0 1 2 3 4 5 6 7 8 9]\n"
     ]
    }
   ],
   "source": [
    "# Understand the dataset a little better\n",
    "\n",
    "# Load the digits dataset\n",
    "# digits = {data,target,indices}; n = 1797\n",
    "digits = datasets.load_digits()\n",
    "\n",
    "# Set the random state to 2 for reproducibility\n",
    "rng = np.random.RandomState(2)\n",
    "print(digits['data'].shape)\n",
    "print(len(digits.data))\n",
    "print(digits['feature_names'])\n",
    "print(digits['images'].shape)\n",
    "print(digits['target_names'])"
   ]
  },
  {
   "cell_type": "code",
   "execution_count": 76,
   "metadata": {
    "id": "XyaWhrhCgJyO"
   },
   "outputs": [
    {
     "name": "stdout",
     "output_type": "stream",
     "text": [
      "Shape of X : (1000, 64)\n",
      "Shape of y : (1000,)\n",
      "(1000,)\n",
      "950\n"
     ]
    }
   ],
   "source": [
    "# Load the digits dataset\n",
    "# digits = {data,target,indices}; n = 1797\n",
    "digits = datasets.load_digits()\n",
    "\n",
    "# Set the random state to 2 for reproducibility\n",
    "rng = np.random.RandomState(2)\n",
    "\n",
    "### START CODE HERE ###\n",
    "# Initialize the indices as an ordered array, with each element corresponding to a sample in the dataset\n",
    "indices = np.arange(len(digits.data))\n",
    "\n",
    "# Shuffle the indices\n",
    "rng.shuffle(indices)\n",
    "\n",
    "# Use the shuffled indices to extract 1000 feature vectors, labels, and images\n",
    "n_total_samples = 1000\n",
    "# Features\n",
    "X = digits.data[indices[:n_total_samples]]\n",
    "print(\"Shape of X : {}\".format(X.shape))\n",
    "# Labels\n",
    "y = digits.target[indices[:n_total_samples]]\n",
    "print(\"Shape of y : {}\".format(y.shape))\n",
    "# Images\n",
    "images = digits.images[indices[:n_total_samples]]\n",
    "\n",
    "# Copy the labels\n",
    "y_train = np.copy(y)\n",
    "print(y_train.shape)\n",
    "# Replace all of the elements of y_train after the first 50 with -1, rendering them unlabeled\n",
    "n_labeled_points = 50\n",
    "# Create an ordered array of indices of the training data\n",
    "train_indices = np.arange(n_total_samples)\n",
    "#print(\"Train indices : {}\".format(train_indices))\n",
    "# Define the training data indices after n_labeled_points as unlabeled\n",
    "unlabeled_set = train_indices[n_labeled_points:]\n",
    "print(len(unlabeled_set))\n",
    "# Conduct the label replacement\n",
    "y_train[unlabeled_set] = -1\n",
    "### END CODE HERE ###"
   ]
  },
  {
   "cell_type": "markdown",
   "metadata": {
    "id": "Ij_hVMtyvomW"
   },
   "source": [
    "### Verify that the labels are randomly distributed and all the labels after the first 50 in `y_train` are hidden"
   ]
  },
  {
   "cell_type": "code",
   "execution_count": 77,
   "metadata": {
    "id": "39CAoaBzgJyR"
   },
   "outputs": [
    {
     "name": "stdout",
     "output_type": "stream",
     "text": [
      "[ 4  0  9  1  4  7  1  5  1  6  6  7  6  1  5  5  4  6  2  7  4  6  4  1\n",
      "  5  2  9  5  4  6  5  6  3  4  0  9  9  8  4  6  8  8  5  7  9  6  9  6\n",
      "  1  3 -1 -1 -1 -1 -1 -1 -1 -1 -1 -1 -1 -1 -1 -1 -1 -1 -1 -1 -1 -1 -1 -1\n",
      " -1 -1 -1 -1 -1 -1 -1 -1 -1 -1 -1 -1 -1 -1 -1 -1 -1 -1 -1 -1 -1 -1 -1 -1\n",
      " -1 -1 -1 -1]\n"
     ]
    }
   ],
   "source": [
    "print(y_train[0:100])"
   ]
  },
  {
   "cell_type": "markdown",
   "metadata": {
    "id": "40hk3UKewEZe"
   },
   "source": [
    "### Exercise: Train the label propagation model with `gamma = 0.25` and `max_iter = 20`\n",
    "\n",
    "### Make sure you pass in the correct version of the target array, i.e. the one containing unlabeled data"
   ]
  },
  {
   "cell_type": "code",
   "execution_count": 78,
   "metadata": {
    "id": "8wHcs3qkgJyW"
   },
   "outputs": [
    {
     "data": {
      "text/plain": [
       "LabelSpreading(gamma=0.25, max_iter=20)"
      ]
     },
     "execution_count": 78,
     "metadata": {},
     "output_type": "execute_result"
    }
   ],
   "source": [
    "### START CODE HERE ###\n",
    "# Initialize the model\n",
    "lp_model = LabelSpreading(gamma=.25, max_iter=20)\n",
    "# Train the model\n",
    "lp_model.fit(X, y_train)\n",
    "### END CODE HERE ###"
   ]
  },
  {
   "cell_type": "markdown",
   "metadata": {
    "id": "LTBwLj2Gy8qM"
   },
   "source": [
    "### Exercise: Evaluate the model's performance on the unlabeled data"
   ]
  },
  {
   "cell_type": "code",
   "execution_count": 79,
   "metadata": {
    "id": "CjFO-PxjgJya"
   },
   "outputs": [
    {
     "name": "stdout",
     "output_type": "stream",
     "text": [
      "Label Spreading model: 50 labeled & 950 unlabeled points (1000 total)\n",
      "              precision    recall  f1-score   support\n",
      "\n",
      "           0       1.00      1.00      1.00        98\n",
      "           1       0.85      0.90      0.88        93\n",
      "           2       0.99      0.78      0.87        91\n",
      "           3       0.92      0.90      0.91       108\n",
      "           4       0.97      1.00      0.98        88\n",
      "           5       0.97      0.93      0.95       102\n",
      "           6       0.97      1.00      0.99       100\n",
      "           7       0.98      0.91      0.94        91\n",
      "           8       0.86      0.82      0.84        87\n",
      "           9       0.77      0.97      0.86        92\n",
      "\n",
      "    accuracy                           0.92       950\n",
      "   macro avg       0.93      0.92      0.92       950\n",
      "weighted avg       0.93      0.92      0.92       950\n",
      "\n",
      "Confusion matrix\n",
      "[[ 98   0   0   0   0   0   0   0   0   0]\n",
      " [  0  84   0   0   1   1   0   0   3   4]\n",
      " [  0  12  71   0   0   0   0   1   7   0]\n",
      " [  0   0   0  97   0   0   0   1   0  10]\n",
      " [  0   0   0   0  88   0   0   0   0   0]\n",
      " [  0   0   0   0   0  95   0   0   0   7]\n",
      " [  0   0   0   0   0   0 100   0   0   0]\n",
      " [  0   0   0   0   0   2   0  83   0   6]\n",
      " [  0   3   1   8   1   0   3   0  71   0]\n",
      " [  0   0   0   0   1   0   0   0   2  89]]\n"
     ]
    }
   ],
   "source": [
    "### START CODE HERE ###\n",
    "# Extract the label predictions for the unlabeled data\n",
    "predicted_labels = lp_model.transduction_[unlabeled_set]\n",
    "# Extract the true labels of the unlabeled data\n",
    "true_labels = y[unlabeled_set]\n",
    "# Compute the confusion matrix between the true and predicted labels of the unlabeled data\n",
    "cm = confusion_matrix(true_labels, predicted_labels, labels=lp_model.classes_)\n",
    "### END CODE HERE ###\n",
    "print(\"Label Spreading model: %d labeled & %d unlabeled points (%d total)\" %\n",
    "      (n_labeled_points, n_total_samples - n_labeled_points, n_total_samples))\n",
    "\n",
    "print(classification_report(true_labels, predicted_labels))\n",
    "\n",
    "print(\"Confusion matrix\")\n",
    "print(cm)"
   ]
  },
  {
   "cell_type": "markdown",
   "metadata": {
    "id": "Hwlk3ptY1YrL"
   },
   "source": [
    "### Exercise: Find the 10 most uncertain labels in descending order of uncertainty, i.e. the labels for which the model made the least confident predictions. Plot the associated images. Observe any discrepancies between predicted and true labels. Do you see any patterns? What might account for them? "
   ]
  },
  {
   "cell_type": "code",
   "execution_count": 80,
   "metadata": {},
   "outputs": [
    {
     "name": "stdout",
     "output_type": "stream",
     "text": [
      "[1.49997311e-151 6.27202024e-110 3.44539633e-141 3.39167337e-061\n",
      " 1.00000000e+000 6.56817200e-070 2.52151628e-088 2.71335880e-085\n",
      " 2.21090351e-080 2.51690902e-045]\n",
      "(1000,)\n"
     ]
    }
   ],
   "source": [
    "\n",
    "print(lp_model.label_distributions_[4])\n",
    "pred_entropies = stats.distributions.entropy(lp_model.label_distributions_.T)\n",
    "print(pred_entropies.shape)"
   ]
  },
  {
   "cell_type": "code",
   "execution_count": 81,
   "metadata": {
    "id": "2ajvW97mgJyf"
   },
   "outputs": [
    {
     "data": {
      "image/png": "[encoded data removed]",
      "text/plain": [
       "<Figure size 504x360 with 10 Axes>"
      ]
     },
     "metadata": {},
     "output_type": "display_data"
    }
   ],
   "source": [
    "### START CODE HERE ###\n",
    "# Calculate uncertainty values for each transduced distribution\n",
    "# You may find scipy stats' entropy() function useful.\n",
    "pred_entropies = stats.distributions.entropy(lp_model.label_distributions_.T)\n",
    "# Pick the top 10 most uncertain labels, in descending order of uncertainty\n",
    "uncertainty_index = np.argsort(pred_entropies)[-10:]\n",
    "\n",
    "### END CODE HERE ###\n",
    "\n",
    "# Plot\n",
    "f = plt.figure(figsize=(7, 5))\n",
    "for index, image_index in enumerate(uncertainty_index):\n",
    "    image = images[image_index]\n",
    "\n",
    "    sub = f.add_subplot(2, 5, index + 1)\n",
    "    sub.imshow(image, cmap=plt.cm.gray_r)\n",
    "    plt.xticks([])\n",
    "    plt.yticks([])\n",
    "    sub.set_title('predict: %i\\ntrue: %i' % (\n",
    "        lp_model.transduction_[image_index], y[image_index]))\n",
    "\n",
    "f.suptitle('Learning with small amount of labeled data')\n",
    "plt.show()"
   ]
  },
  {
   "cell_type": "markdown",
   "metadata": {
    "id": "xD119mlU69jb"
   },
   "source": [
    "### Exercise: Repeat the experiment with 10, 100, and 250 labeled images. How do the differing numbers of labeled samples affect the model's performance? Which number detections yield the most errors?\n",
    "\n"
   ]
  },
  {
   "cell_type": "code",
   "execution_count": 102,
   "metadata": {
    "id": "ziIXBKO298DX"
   },
   "outputs": [],
   "source": [
    "def results_from_labeled_images(n_labeled_points):    \n",
    "    n_labeled_points = n_labeled_points\n",
    "    train_indices = np.arange(n_total_samples)\n",
    "    unlabeled_set = train_indices[n_labeled_points:]\n",
    "    #print(unlabeled_set.shape)\n",
    "    y_train = np.copy(y)\n",
    "\n",
    "    y_train[unlabeled_set] = -1\n",
    "    #print(y_train)\n",
    "    lp_model = LabelSpreading(gamma=.25, max_iter=20)\n",
    "    lp_model.fit(X, y_train)\n",
    "    predicted_labels = lp_model.transduction_[unlabeled_set]\n",
    "    true_labels = y[unlabeled_set]\n",
    "    cm = confusion_matrix(true_labels, predicted_labels, labels=lp_model.classes_)\n",
    "    print(\"Label Spreading model: %d labeled & %d unlabeled points (%d total)\" %\n",
    "          (n_labeled_points, n_total_samples - n_labeled_points, n_total_samples))\n",
    "\n",
    "    print(classification_report(true_labels, predicted_labels))\n",
    "\n",
    "    print(\"Confusion matrix\")\n",
    "    print(cm)\n",
    "\n",
    "    pred_entropies = stats.distributions.entropy(lp_model.label_distributions_.T)\n",
    "    uncertainty_index = np.argsort(pred_entropies)[-10:]\n",
    "    \n",
    "#     f = plt.figure(figsize=(7, 5))\n",
    "#     for index, image_index in enumerate(uncertainty_index):\n",
    "#         image = images[image_index]\n",
    "\n",
    "#         sub = f.add_subplot(2, 5, index + 1)\n",
    "#         sub.imshow(image, cmap=plt.cm.gray_r)\n",
    "#         plt.xticks([])\n",
    "#         plt.yticks([])\n",
    "#         sub.set_title('predict: %i\\ntrue: %i' % (\n",
    "#             lp_model.transduction_[image_index], y[image_index]))\n",
    "\n",
    "#     f.suptitle('Learning with small amount of labeled data')\n",
    "#     plt.show()"
   ]
  },
  {
   "cell_type": "code",
   "execution_count": 103,
   "metadata": {},
   "outputs": [
    {
     "name": "stdout",
     "output_type": "stream",
     "text": [
      "Label Spreading model: 100 labeled & 900 unlabeled points (1000 total)\n",
      "              precision    recall  f1-score   support\n",
      "\n",
      "           0       1.00      1.00      1.00        95\n",
      "           1       0.92      0.99      0.96        87\n",
      "           2       1.00      0.90      0.95        88\n",
      "           3       0.93      0.96      0.95        99\n",
      "           4       0.98      1.00      0.99        84\n",
      "           5       0.97      0.93      0.95        97\n",
      "           6       1.00      1.00      1.00        97\n",
      "           7       1.00      0.91      0.95        85\n",
      "           8       0.96      0.92      0.94        78\n",
      "           9       0.83      0.96      0.89        90\n",
      "\n",
      "    accuracy                           0.96       900\n",
      "   macro avg       0.96      0.96      0.96       900\n",
      "weighted avg       0.96      0.96      0.96       900\n",
      "\n",
      "Confusion matrix\n",
      "[[95  0  0  0  0  0  0  0  0  0]\n",
      " [ 0 86  0  0  0  1  0  0  0  0]\n",
      " [ 0  4 79  3  0  0  0  0  2  0]\n",
      " [ 0  0  0 95  0  0  0  0  0  4]\n",
      " [ 0  0  0  0 84  0  0  0  0  0]\n",
      " [ 0  0  0  0  0 90  0  0  0  7]\n",
      " [ 0  0  0  0  0  0 97  0  0  0]\n",
      " [ 0  0  0  0  0  2  0 77  0  6]\n",
      " [ 0  3  0  2  1  0  0  0 72  0]\n",
      " [ 0  0  0  2  1  0  0  0  1 86]]\n"
     ]
    }
   ],
   "source": [
    "results_from_labeled_images(100)"
   ]
  },
  {
   "cell_type": "code",
   "execution_count": 106,
   "metadata": {},
   "outputs": [
    {
     "name": "stdout",
     "output_type": "stream",
     "text": [
      "10\n",
      "Label Spreading model: 10 labeled & 990 unlabeled points (1000 total)\n",
      "              precision    recall  f1-score   support\n",
      "\n",
      "           0       1.00      1.00      1.00        99\n",
      "           1       0.40      0.93      0.56        96\n",
      "           2       0.00      0.00      0.00        93\n",
      "           3       0.00      0.00      0.00       110\n",
      "           4       0.76      0.97      0.85        94\n",
      "           5       0.92      0.94      0.93       108\n",
      "           6       0.95      0.99      0.97       109\n",
      "           7       0.91      0.99      0.95        94\n",
      "           8       0.00      0.00      0.00        90\n",
      "           9       0.34      0.77      0.47        97\n",
      "\n",
      "    accuracy                           0.66       990\n",
      "   macro avg       0.53      0.66      0.57       990\n",
      "weighted avg       0.53      0.66      0.58       990\n",
      "\n",
      "Confusion matrix\n",
      "[[ 99   0   0   0   0   0   0]\n",
      " [  0  89   1   0   5   0   1]\n",
      " [  0   0  91   0   0   3   0]\n",
      " [  0   0   2 101   0   0   5]\n",
      " [  0   0   0   1 108   0   0]\n",
      " [  0   0   1   0   0  93   0]\n",
      " [  0   8  10   3   0   1  75]]\n",
      "100\n",
      "Label Spreading model: 100 labeled & 900 unlabeled points (1000 total)\n",
      "              precision    recall  f1-score   support\n",
      "\n",
      "           0       1.00      1.00      1.00        95\n",
      "           1       0.92      0.99      0.96        87\n",
      "           2       1.00      0.90      0.95        88\n",
      "           3       0.93      0.96      0.95        99\n",
      "           4       0.98      1.00      0.99        84\n",
      "           5       0.97      0.93      0.95        97\n",
      "           6       1.00      1.00      1.00        97\n",
      "           7       1.00      0.91      0.95        85\n",
      "           8       0.96      0.92      0.94        78\n",
      "           9       0.83      0.96      0.89        90\n",
      "\n",
      "    accuracy                           0.96       900\n",
      "   macro avg       0.96      0.96      0.96       900\n",
      "weighted avg       0.96      0.96      0.96       900\n",
      "\n",
      "Confusion matrix\n",
      "[[95  0  0  0  0  0  0  0  0  0]\n",
      " [ 0 86  0  0  0  1  0  0  0  0]\n",
      " [ 0  4 79  3  0  0  0  0  2  0]\n",
      " [ 0  0  0 95  0  0  0  0  0  4]\n",
      " [ 0  0  0  0 84  0  0  0  0  0]\n",
      " [ 0  0  0  0  0 90  0  0  0  7]\n",
      " [ 0  0  0  0  0  0 97  0  0  0]\n",
      " [ 0  0  0  0  0  2  0 77  0  6]\n",
      " [ 0  3  0  2  1  0  0  0 72  0]\n",
      " [ 0  0  0  2  1  0  0  0  1 86]]\n",
      "250\n",
      "Label Spreading model: 250 labeled & 750 unlabeled points (1000 total)\n",
      "              precision    recall  f1-score   support\n",
      "\n",
      "           0       1.00      1.00      1.00        81\n",
      "           1       0.93      0.97      0.95        70\n",
      "           2       1.00      0.90      0.95        70\n",
      "           3       0.91      0.99      0.95        80\n",
      "           4       1.00      1.00      1.00        73\n",
      "           5       0.99      0.93      0.96        81\n",
      "           6       1.00      1.00      1.00        86\n",
      "           7       1.00      0.99      0.99        67\n",
      "           8       0.94      0.89      0.91        66\n",
      "           9       0.89      0.96      0.92        76\n",
      "\n",
      "    accuracy                           0.96       750\n",
      "   macro avg       0.97      0.96      0.96       750\n",
      "weighted avg       0.97      0.96      0.96       750\n",
      "\n",
      "Confusion matrix\n",
      "[[81  0  0  0  0  0  0  0  0  0]\n",
      " [ 0 68  0  0  0  1  0  0  1  0]\n",
      " [ 0  4 63  1  0  0  0  0  2  0]\n",
      " [ 0  0  0 79  0  0  0  0  0  1]\n",
      " [ 0  0  0  0 73  0  0  0  0  0]\n",
      " [ 0  0  0  0  0 75  0  0  0  6]\n",
      " [ 0  0  0  0  0  0 86  0  0  0]\n",
      " [ 0  0  0  0  0  0  0 66  0  1]\n",
      " [ 0  1  0  5  0  0  0  0 59  1]\n",
      " [ 0  0  0  2  0  0  0  0  1 73]]\n",
      "300\n",
      "Label Spreading model: 300 labeled & 700 unlabeled points (1000 total)\n",
      "              precision    recall  f1-score   support\n",
      "\n",
      "           0       1.00      1.00      1.00        75\n",
      "           1       0.92      0.97      0.94        60\n",
      "           2       1.00      0.90      0.95        68\n",
      "           3       0.90      0.99      0.94        75\n",
      "           4       1.00      1.00      1.00        66\n",
      "           5       0.99      0.96      0.97        74\n",
      "           6       1.00      1.00      1.00        83\n",
      "           7       1.00      0.98      0.99        62\n",
      "           8       0.93      0.89      0.91        64\n",
      "           9       0.92      0.96      0.94        73\n",
      "\n",
      "    accuracy                           0.97       700\n",
      "   macro avg       0.97      0.96      0.96       700\n",
      "weighted avg       0.97      0.97      0.97       700\n",
      "\n",
      "Confusion matrix\n",
      "[[75  0  0  0  0  0  0  0  0  0]\n",
      " [ 0 58  0  0  0  1  0  0  1  0]\n",
      " [ 0  4 61  1  0  0  0  0  2  0]\n",
      " [ 0  0  0 74  0  0  0  0  0  1]\n",
      " [ 0  0  0  0 66  0  0  0  0  0]\n",
      " [ 0  0  0  0  0 71  0  0  0  3]\n",
      " [ 0  0  0  0  0  0 83  0  0  0]\n",
      " [ 0  0  0  0  0  0  0 61  0  1]\n",
      " [ 0  1  0  5  0  0  0  0 57  1]\n",
      " [ 0  0  0  2  0  0  0  0  1 70]]\n"
     ]
    },
    {
     "name": "stderr",
     "output_type": "stream",
     "text": [
      "/Users/unmeshmali/opt/anaconda3/lib/python3.8/site-packages/sklearn/metrics/_classification.py:1248: UndefinedMetricWarning: Precision and F-score are ill-defined and being set to 0.0 in labels with no predicted samples. Use `zero_division` parameter to control this behavior.\n",
      "  _warn_prf(average, modifier, msg_start, len(result))\n",
      "/Users/unmeshmali/opt/anaconda3/lib/python3.8/site-packages/sklearn/metrics/_classification.py:1248: UndefinedMetricWarning: Precision and F-score are ill-defined and being set to 0.0 in labels with no predicted samples. Use `zero_division` parameter to control this behavior.\n",
      "  _warn_prf(average, modifier, msg_start, len(result))\n",
      "/Users/unmeshmali/opt/anaconda3/lib/python3.8/site-packages/sklearn/metrics/_classification.py:1248: UndefinedMetricWarning: Precision and F-score are ill-defined and being set to 0.0 in labels with no predicted samples. Use `zero_division` parameter to control this behavior.\n",
      "  _warn_prf(average, modifier, msg_start, len(result))\n"
     ]
    }
   ],
   "source": [
    "for i in (10, 100, 250, 300):\n",
    "    print(i)\n",
    "    results_from_labeled_images(i)"
   ]
  },
  {
   "cell_type": "markdown",
   "metadata": {},
   "source": [
    "# Increasing the number of labeled images increases the f1-score as we can see in the result above. "
   ]
  },
  {
   "cell_type": "markdown",
   "metadata": {},
   "source": [
    "# Out of 10,100, and 250 labeled images. 250 labeled images result in highest f1-score. However, 100 labeled images also gives decent results (f1-score = 0.96). "
   ]
  },
  {
   "cell_type": "code",
   "execution_count": null,
   "metadata": {},
   "outputs": [],
   "source": []
  }
 ],
 "metadata": {
  "colab": {
   "collapsed_sections": [],
   "name": "4.1_Label_Propagation.ipynb",
   "provenance": [
    {
     "file_id": "1wR4Sk33vvBwuPkDoYo8VlGMChED39t0t",
     "timestamp": 1604606505111
    }
   ]
  },
  "kernelspec": {
   "display_name": "Python 3",
   "language": "python",
   "name": "python3"
  },
  "language_info": {
   "codemirror_mode": {
    "name": "ipython",
    "version": 3
   },
   "file_extension": ".py",
   "mimetype": "text/x-python",
   "name": "python",
   "nbconvert_exporter": "python",
   "pygments_lexer": "ipython3",
   "version": "3.8.5"
  }
 },
 "nbformat": 4,
 "nbformat_minor": 1
}
